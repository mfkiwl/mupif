{
 "cells": [
  {
   "cell_type": "markdown",
   "metadata": {},
   "source": [
    "# Getting started with MuPIF\n",
    "\n",
    "In this session, we illustrate how to create an instance of existing thermal model, how to set model inputs, how to execute it and how to get results from it.\n",
    "This example illustrates the basic model steering and also use of data types (properties and fields).\n",
    "\n",
    "This example can be followed by entering interactive python prompt or preparing python script and running it by python.\n",
    "Here we use Jupyter notebook environment.\n",
    "First step is to import MuPIF module and models module with demo models"
   ]
  },
  {
   "cell_type": "code",
   "execution_count": 19,
   "metadata": {},
   "outputs": [],
   "source": [
    "import sys\n",
    "# set up python module path to mupif\n",
    "sys.path.append('/home/bp/devel/mupif.git')\n",
    "# set up python module path to mupif demo models\n",
    "sys.path.append('/home/bp/devel/mupif.git/mupif/demo')\n",
    "\n",
    "import mupif as mp\n",
    "import models"
   ]
  },
  {
   "cell_type": "markdown",
   "metadata": {},
   "source": [
    "The simulation workflows are composed of individual models. Model in MuPIF is represented as a object derived from *Model* class. The model comes with metadata, that provide useful information about model itself.\n",
    "The *Model* class defines common methods provided by all models. These methods include:\n",
    "- *set* method to map input parameters to model\n",
    "- *solveStep* method to update model\n",
    "- *get* method to request model output parameters\n",
    "- *getApplicationSignature* to return model info string (signature)\n",
    "- *getMetadata* to return model metadata.\n",
    "Now, let us start to create in instance of thermal model (*ThermalModel* class). \n",
    "\n",
    "We will use these models in this example. The demo thermal model solves stationary thermal conduction problem on a rectangular domain. It assumes fixed geometry, but allows to control boundary conditions on its edges."
   ]
  },
  {
   "cell_type": "code",
   "execution_count": 20,
   "metadata": {},
   "outputs": [
    {
     "data": {
      "text/plain": [
       "'Stationary thermal-demo-solver, ver 1.0'"
      ]
     },
     "execution_count": 20,
     "metadata": {},
     "output_type": "execute_result"
    }
   ],
   "source": [
    "# create instance of thermal model\n",
    "tm = models.ThermalModel()\n",
    "tm.getApplicationSignature()"
   ]
  },
  {
   "cell_type": "markdown",
   "metadata": {},
   "source": [
    "Lets initialize model and get model metadata describing its inputs"
   ]
  },
  {
   "cell_type": "code",
   "execution_count": 21,
   "metadata": {},
   "outputs": [
    {
     "data": {
      "text/plain": [
       "[{'Name': 'edge temperature',\n",
       "  'Type': 'mupif.Property',\n",
       "  'Required': False,\n",
       "  'Type_ID': 'mupif.DataID.PID_Temperature',\n",
       "  'Units': 'deg_C',\n",
       "  'Obj_ID': ['Cauchy top',\n",
       "   'Cauchy bottom',\n",
       "   'Cauchy left',\n",
       "   'Cauchy right',\n",
       "   'Dirichlet top',\n",
       "   'Dirichlet bottom',\n",
       "   'Dirichlet left',\n",
       "   'Dirichlet right'],\n",
       "  'Set_at': 'timestep',\n",
       "  'ValueType': 'Scalar'},\n",
       " {'Name': 'Input file',\n",
       "  'Type': 'mupif.PyroFile',\n",
       "  'Required': True,\n",
       "  'Type_ID': 'mupif.DataID.ID_InputFile',\n",
       "  'Obj_ID': 'input_file_thermal',\n",
       "  'Set_at': 'initialization',\n",
       "  'Units': ''}]"
      ]
     },
     "execution_count": 21,
     "metadata": {},
     "output_type": "execute_result"
    }
   ],
   "source": [
    "tm.initialize(validateMetaData=False)\n",
    "tm.getMetadata('Inputs')\n"
   ]
  },
  {
   "cell_type": "markdown",
   "metadata": {},
   "source": [
    "We see that we can set edge boundary conditions by passing in (via *set* method) a property with object id determining (1) the edge position (top, left, etc) and (2) type of boundary condition (Dirichlet, Cauchy).\n",
    "If no boundary condition is applied on specific edge, a perfect insulation is assumed.\n",
    "\n",
    "Let's prescribe temperature on top and bottom edges:\n",
    "- first create a property (as an instance of ConstantProperty dataType) with physical meaning of Temperature (*propID=mp.DataID.PID_Temperature*), being a scalar quantity (*valueType=mp.ValueType.Scalar*) of value 50 (*value=(50,)* and units of Kelvin (*unit=mp.U['K']*)). \n",
    "- apply this value as a Dirichlet boundary condition on top edge:"
   ]
  },
  {
   "cell_type": "code",
   "execution_count": 22,
   "metadata": {},
   "outputs": [],
   "source": [
    "# boundary condition for top edge\n",
    "bc1 = mp.ConstantProperty(propID=mp.DataID.PID_Temperature, valueType=mp.ValueType.Scalar, value=(50,), unit=mp.U['K'])\n",
    "tm.set(bc1, 'Dirichlet top')\n",
    "\n",
    "# boundary condition for bottom edge\n",
    "bc2 = mp.ConstantProperty(propID=mp.DataID.PID_Temperature, valueType=mp.ValueType.Scalar, value=(20,), unit=mp.U['K'])\n",
    "tm.set(bc2, 'Dirichlet bottom')\n"
   ]
  },
  {
   "cell_type": "markdown",
   "metadata": {},
   "source": [
    "Now we can update the model (solve the thermal conduction problem):"
   ]
  },
  {
   "cell_type": "code",
   "execution_count": 23,
   "metadata": {},
   "outputs": [],
   "source": [
    "# solve \n",
    "tm.solveStep(mp.TimeStep(time=0,dt=.1,targetTime=1.,unit=mp.U.s))"
   ]
  },
  {
   "cell_type": "markdown",
   "metadata": {},
   "source": [
    "Finally, we request a thermal field from a model (ft1 is a MuPIF dataType of type Field, representing a field variable). Fields can be evaluated at specific point, exported or plotted."
   ]
  },
  {
   "cell_type": "code",
   "execution_count": 24,
   "metadata": {},
   "outputs": [
    {
     "name": "stderr",
     "output_type": "stream",
     "text": [
      "100%|██████████| 40/40 [00:00<00:00, 17005.08 cells/s]"
     ]
    },
    {
     "name": "stdout",
     "output_type": "stream",
     "text": [
      "[20.] C\n"
     ]
    },
    {
     "name": "stderr",
     "output_type": "stream",
     "text": [
      "\n"
     ]
    },
    {
     "data": {
      "image/png": "[encoded data removed]",
      "text/plain": [
       "<Figure size 640x480 with 2 Axes>"
      ]
     },
     "metadata": {},
     "output_type": "display_data"
    }
   ],
   "source": [
    "# show the field\n",
    "ft1=tm.get(mp.DataID.FID_Temperature,time=1.*mp.Q.s)\n",
    "ft1.plot2D()\n",
    "print(ft1.evaluate((5,0,0)))"
   ]
  }
 ],
 "metadata": {
  "kernelspec": {
   "display_name": "Python 3",
   "language": "python",
   "name": "python3"
  },
  "language_info": {
   "codemirror_mode": {
    "name": "ipython",
    "version": 3
   },
   "file_extension": ".py",
   "mimetype": "text/x-python",
   "name": "python",
   "nbconvert_exporter": "python",
   "pygments_lexer": "ipython3",
   "version": "3.10.12"
  }
 },
 "nbformat": 4,
 "nbformat_minor": 2
}
